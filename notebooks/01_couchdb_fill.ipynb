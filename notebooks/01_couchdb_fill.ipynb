{
 "cells": [
  {
   "cell_type": "code",
   "execution_count": null,
   "metadata": {},
   "outputs": [],
   "source": [
    "from ansible_data import *"
   ]
  },
  {
   "cell_type": "code",
   "execution_count": null,
   "metadata": {},
   "outputs": [],
   "source": [
    "from datetime import datetime\n",
    "\n",
    "# datetime object containing current date and time\n",
    "now = str(datetime.now().replace(second=0, microsecond=0))\n",
    "\n",
    "docs = [    \n",
    "    {'doc_type': 'users', 'shortname': 'alice', 'name': 'Alice Appleworth', 'state': 'present', 'telephone': '123-456-7890'},\n",
    "    {'doc_type': 'users', 'shortname': 'bob', 'name': 'Bob Bananarama', 'state': 'present', 'telephone': '987-654-3210'},\n",
    "    {'doc_type': 'users', 'shortname': 'carlos', 'name': 'Carlos Carrot', 'state': 'absent', 'telephone': '555-123-6789'},\n",
    "    {'doc_type': 'fruit', 'shortname': 'pineapple', 'state': 'present', 'color': 'yellow'}\n",
    "]\n",
    "\n",
    "for (success, doc_id, revision_or_exception) in getdb('mydb').update(docs):\n",
    "    print(success, doc_id, revision_or_exception)"
   ]
  },
  {
   "cell_type": "code",
   "execution_count": null,
   "metadata": {},
   "outputs": [],
   "source": [
    "listdocs()"
   ]
  },
  {
   "cell_type": "code",
   "execution_count": null,
   "metadata": {},
   "outputs": [],
   "source": [
    "from pprint import pprint\n",
    "\n",
    "rows = getdb('mydb').view('_all_docs', include_docs=True)\n",
    "index = []\n",
    "for row in rows:\n",
    "    if row['doc']['doc_type'] not in index:\n",
    "        index.append(row['doc']['doc_type'])\n",
    "\n",
    "output = []\n",
    "for i in index:\n",
    "    docs = [row['doc'] for row in rows if row['doc']['doc_type'] == i]\n",
    "    dict = {}\n",
    "    dict[i] = docs\n",
    "    output.append(dict)\n",
    "\n",
    "pprint(output)"
   ]
  },
  {
   "cell_type": "code",
   "execution_count": null,
   "metadata": {},
   "outputs": [],
   "source": [
    "newdoc()"
   ]
  }
 ],
 "metadata": {
  "kernelspec": {
   "display_name": "Python 3 (ipykernel)",
   "language": "python",
   "name": "python3"
  },
  "language_info": {
   "codemirror_mode": {
    "name": "ipython",
    "version": 3
   },
   "file_extension": ".py",
   "mimetype": "text/x-python",
   "name": "python",
   "nbconvert_exporter": "python",
   "pygments_lexer": "ipython3",
   "version": "3.8.19"
  }
 },
 "nbformat": 4,
 "nbformat_minor": 4
}
