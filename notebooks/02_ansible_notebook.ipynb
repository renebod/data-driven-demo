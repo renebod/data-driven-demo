{
 "cells": [
  {
   "cell_type": "markdown",
   "metadata": {},
   "source": [
    "# Ansible Playbook Test\n",
    "\n",
    "Runs a task using Ansible.\n",
    "\n",
    "Press shift-enter to run the task."
   ]
  },
  {
   "cell_type": "code",
   "execution_count": null,
   "metadata": {},
   "outputs": [],
   "source": [
    "import ansible_runner\n",
    "\n",
    "def ansiblerun():\n",
    "    r = ansible_runner.run(\n",
    "        private_data_dir='./',\n",
    "        playbook='playbook.yml',\n",
    "        inventory='hosts',\n",
    "        extravars={'foo': 'bar'})\n",
    "\n",
    "ansiblerun()"
   ]
  },
  {
   "cell_type": "code",
   "execution_count": null,
   "metadata": {},
   "outputs": [],
   "source": [
    "from ansible_data import *\n",
    "\n",
    "listdocs()"
   ]
  },
  {
   "cell_type": "code",
   "execution_count": null,
   "metadata": {},
   "outputs": [],
   "source": [
    "import ansible_runner\n",
    "\n",
    "def ansiblerun():\n",
    "    r = ansible_runner.run(\n",
    "        private_data_dir='./',\n",
    "        playbook='site.yml',\n",
    "        inventory='hosts',\n",
    "        tags='test_01',\n",
    "        # tags='test_02',\n",
    "        # tags='test_03',\n",
    "        # tags='test_04',\n",
    "        # tags='test_05',\n",
    "        # tags='test_06',\n",
    "        extravars={'foo': 'bar'})\n",
    "\n",
    "ansiblerun()"
   ]
  }
 ],
 "metadata": {
  "kernelspec": {
   "display_name": "Python 3 (ipykernel)",
   "language": "python",
   "name": "python3"
  },
  "language_info": {
   "codemirror_mode": {
    "name": "ipython",
    "version": 3
   },
   "file_extension": ".py",
   "mimetype": "text/x-python",
   "name": "python",
   "nbconvert_exporter": "python",
   "pygments_lexer": "ipython3",
   "version": "3.8.19"
  }
 },
 "nbformat": 4,
 "nbformat_minor": 4
}
