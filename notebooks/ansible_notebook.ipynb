{
 "cells": [
  {
   "cell_type": "markdown",
   "metadata": {},
   "source": [
    "# Ansible Playbook Test\n",
    "\n",
    "Runs a task using Ansible.\n",
    "\n",
    "Press shift-enter to run the task."
   ]
  },
  {
   "cell_type": "code",
   "execution_count": null,
   "metadata": {},
   "outputs": [],
   "source": [
    "import ansible_runner\n",
    "\n",
    "def ansiblerun():\n",
    "    r = ansible_runner.run(\n",
    "        private_data_dir='./',\n",
    "        playbook='playbook.yml',\n",
    "        inventory='hosts',\n",
    "        extravars={'foo': 'bar'})\n",
    "\n",
    "ansiblerun()"
   ]
  },
  {
   "cell_type": "code",
   "execution_count": null,
   "metadata": {},
   "outputs": [],
   "source": [
    "import ansible_runner\n",
    "\n",
    "def ansiblerun():\n",
    "    r = ansible_runner.run(\n",
    "        private_data_dir='./',\n",
    "        playbook='site.yml',\n",
    "        inventory='hosts',\n",
    "        # tags='test_01',\n",
    "        # tags='test_02',\n",
    "        tags='test_03',\n",
    "        extravars={'foo': 'bar'})\n",
    "\n",
    "ansiblerun()"
   ]
  },
  {
   "cell_type": "code",
   "execution_count": null,
   "metadata": {},
   "outputs": [],
   "source": [
    "from ansible_data import *\n",
    "from datetime import datetime\n",
    "\n",
    "now = str(datetime.now().replace(second=0, microsecond=0))\n",
    "\n",
    "docs = [    \n",
    "    {'doc_type': 'users', 'shortname': 'alice', 'name': 'Alice Appleworth', 'state': 'present', 'telephone': '123-456-7890'},\n",
    "    {'doc_type': 'users', 'shortname': 'bob', 'name': 'Bob Bananarama', 'state': 'present', 'telephone': '987-654-3210'},\n",
    "    {'doc_type': 'users', 'shortname': 'carlos', 'name': 'Carlos Carrot', 'state': 'absent', 'telephone': '555-123-6789'},\n",
    "    {'doc_type': 'fruit', 'shortname': 'pineapple', 'state': 'present', 'color': 'yellow'}\n",
    "]\n",
    "\n",
    "for (success, doc_id, revision_or_exception) in getdb('mydb').update(docs):\n",
    "    print(success, doc_id, revision_or_exception)"
   ]
  },
  {
   "cell_type": "code",
   "execution_count": null,
   "metadata": {},
   "outputs": [],
   "source": [
    "newdoc()"
   ]
  },
  {
   "cell_type": "code",
   "execution_count": null,
   "metadata": {},
   "outputs": [],
   "source": [
    "listdocs()"
   ]
  }
 ],
 "metadata": {
  "kernelspec": {
   "display_name": "Python 3 (ipykernel)",
   "language": "python",
   "name": "python3"
  },
  "language_info": {
   "codemirror_mode": {
    "name": "ipython",
    "version": 3
   },
   "file_extension": ".py",
   "mimetype": "text/x-python",
   "name": "python",
   "nbconvert_exporter": "python",
   "pygments_lexer": "ipython3",
   "version": "3.8.19"
  }
 },
 "nbformat": 4,
 "nbformat_minor": 4
}
